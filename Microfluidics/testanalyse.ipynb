{
 "cells": [
  {
   "cell_type": "code",
   "execution_count": 1,
   "metadata": {},
   "outputs": [
    {
     "name": "stdout",
     "output_type": "stream",
     "text": [
      "Hello World\n"
     ]
    }
   ],
   "source": [
    "print(\"Hello World\")"
   ]
  },
  {
   "cell_type": "code",
   "execution_count": 4,
   "metadata": {},
   "outputs": [
    {
     "name": "stdout",
     "output_type": "stream",
     "text": [
      "range(0, 1)\n"
     ]
    }
   ],
   "source": [
    "import nd2reader\n",
    "from ipywidgets import interact\n",
    "from IPython.display import display\n",
    "from PIL import Image\n",
    "\n",
    "nd2 = nd2reader.Nd2('230515_fopra.nd2')\n",
    "\n",
    "#print details\n",
    "\n",
    "print(nd2.fields_of_view)\n",
    "\n",
    "\n",
    "\n",
    "\n",
    "#images = [Image.fromarray(image) for image in nd2[1:10]]\n",
    "\n",
    "#def show_image(i):\n",
    "#    display(images[i])\n",
    "\n",
    "#interact(show_image, i=(0, len(images)-1))"
   ]
  }
 ],
 "metadata": {
  "kernelspec": {
   "display_name": "microfluidics",
   "language": "python",
   "name": "python3"
  },
  "language_info": {
   "codemirror_mode": {
    "name": "ipython",
    "version": 3
   },
   "file_extension": ".py",
   "mimetype": "text/x-python",
   "name": "python",
   "nbconvert_exporter": "python",
   "pygments_lexer": "ipython3",
   "version": "3.11.3"
  },
  "orig_nbformat": 4
 },
 "nbformat": 4,
 "nbformat_minor": 2
}
